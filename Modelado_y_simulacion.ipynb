{
  "nbformat": 4,
  "nbformat_minor": 0,
  "metadata": {
    "colab": {
      "name": "Modelado y simulacion",
      "provenance": [],
      "collapsed_sections": [],
      "authorship_tag": "ABX9TyNfJE0WpdCbk6OpDEIdpB6f",
      "include_colab_link": true
    },
    "kernelspec": {
      "name": "python3",
      "display_name": "Python 3"
    }
  },
  "cells": [
    {
      "cell_type": "markdown",
      "metadata": {
        "id": "view-in-github",
        "colab_type": "text"
      },
      "source": [
        "<a href=\"https://colab.research.google.com/github/sariossa/Modelado-y-simulacion/blob/master/Modelado_y_simulacion.ipynb\" target=\"_parent\"><img src=\"https://colab.research.google.com/assets/colab-badge.svg\" alt=\"Open In Colab\"/></a>"
      ]
    },
    {
      "cell_type": "code",
      "metadata": {
        "id": "wN5KCBGrP12Z",
        "outputId": "256ac3d5-36de-4817-881b-a4902d461fb3",
        "colab": {
          "base_uri": "https://localhost:8080/",
          "height": 38
        }
      },
      "source": [
        "numpy as np\n",
        "from sympy import Function, dsolve, Eq, Derivative, sin, cos, exp, symbols #para importar de una libreria una funcion especifica\n",
        "from sympy import pprint, classify_ode, solve, init_printing, latex\n",
        "from IPython.display import display, Image, HTML, Math\n",
        "display(HTML(\"<script src='https://cdnjs.cloudflare.com/ajax/libs/mathjax/2.7.3/\"\n",
        "               \"latest.js?config=default'></script>\"))\n",
        "\n",
        "display(Math(r\"$$\\frac{d}{dt}x(t)=F(x,t),~x(t_0)=x_0$$\"))\n"
      ],
      "execution_count": null,
      "outputs": [
        {
          "output_type": "display_data",
          "data": {
            "text/html": [
              "<script src='https://cdnjs.cloudflare.com/ajax/libs/mathjax/2.7.3/latest.js?config=default'></script>"
            ],
            "text/plain": [
              "<IPython.core.display.HTML object>"
            ]
          },
          "metadata": {
            "tags": []
          }
        },
        {
          "output_type": "display_data",
          "data": {
            "text/latex": "$$\\frac{d}{dt}x(t)=F(x,t),~x(t_0)=x_0$$",
            "text/plain": [
              "<IPython.core.display.Math object>"
            ]
          },
          "metadata": {
            "tags": []
          }
        }
      ]
    },
    {
      "cell_type": "code",
      "metadata": {
        "id": "cIyVkga7P4UB"
      },
      "source": [
        "#Ejercicio 2.2.13 Strogatz\n",
        "t = symbols('t')\n",
        "m,g,k,vt0,C1 = symbols('m g k vt0 C1')\n",
        "v = Function('v')\n",
        "dv_eq = Eq(v(t).diff(t),g-(k*v(t)**2)/m)\n",
        "pprint(dv_eq)\n",
        "vt_c = Function('vt_c')\n",
        "vt_c = dsolve(dv_eq,v(t))\n",
        "pprint(vt_c)\n",
        "ics = {v(0):vt0,vt0:.1,m:1,k:1,g:10}\n",
        "vt_ics = Function('vt_ics')\n",
        "vt_ics=vt_c.subs(t,0).subs(ics)#.subs(V,1)\n",
        "pprint(vt_ics)\n",
        "\n",
        "vt_ics_sol = solve(vt_ics,C1)\n",
        "pprint(vt_ics_sol)\n",
        "vt = Function('vt')\n",
        "vt=vt_c.subs(vt_ics_sol[0])\n",
        "pprint(vt)\n",
        "pprint(vt.subs({vt0:.1,m:1,k:1,g:10}))"
      ],
      "execution_count": null,
      "outputs": []
    },
    {
      "cell_type": "code",
      "metadata": {
        "id": "-QndUALkRXRy"
      },
      "source": [
        "#Ejercicio 2.4.8\n",
        "[x, y] = meshgrid(mcat([mslice[-2:0.05:2]]), 0)\n",
        "for a in mslice[-1:1]:\n",
        "    dx = a * x - x **elpow** 3\n",
        "    ylim_extra = mcat([-1 / 3 - 1 / 3])\n",
        "    stabilitaetsanalyse(x, y, dx, zeros(size(y)), mcat([]), mcat([]), 4, ylim_extra)\n",
        "    ebenen = get(gcf, mstring('Children'))\n",
        "    for i_change_xtick in mslice[1:3]:\n",
        "        set(ebenen(i_change_xtick), mstring('XTick'), mcat([-2 - 1, 0, 1, 2]))\n",
        "        end\n",
        "        __switch_0__ = a\n",
        "        if 0:\n",
        "            pass\n",
        "        elif __switch_0__ == -1:\n",
        "            renameaxis(ebenen(2), mstring('keep'), mstring('keep'), mcat([]), mcellarray([mstring(''), OMPCSEMI, mstring(''), OMPCSEMI, mstring('0'), OMPCSEMI, mstring(''), OMPCSEMI, mstring('')]), mcellarray([mstring(''), OMPCSEMI, mstring('0'), OMPCSEMI, mstring('')]), 26, 0)\n",
        "        elif __switch_0__ == 0:\n",
        "            renameaxis(ebenen(2), mstring('keep'), mstring('keep'), mcat([]), mcellarray([mstring(''), OMPCSEMI, mstring(''), OMPCSEMI, mstring('0'), OMPCSEMI, mstring(''), OMPCSEMI, mstring('')]), mcellarray([mstring(''), OMPCSEMI, mstring(''), OMPCSEMI, mstring('0'), OMPCSEMI, mstring(''), OMPCSEMI, mstring('')]), 26, 0)\n",
        "        elif __switch_0__ == 1:\n",
        "            renameaxis(ebenen(2), mstring('keep'), mstring('keep'), mcat([]), mcellarray([mstring(''), OMPCSEMI, mstring('$$-\\\\sqrt{a}$$'), OMPCSEMI, mstring('0'), OMPCSEMI, mstring('$$\\\\sqrt{a}$$'), OMPCSEMI, mstring('')]), mcellarray([mstring(''), OMPCSEMI, mstring(''), OMPCSEMI, mstring('0'), OMPCSEMI, mstring(''), OMPCSEMI, mstring('')]), 26, 0)\n",
        "        else:\n",
        "            disp(mstring('Warnung: Keine Achsenanpassung '), mstring('implementiert'))\n",
        "            end\n",
        "            end"
      ],
      "execution_count": null,
      "outputs": []
    },
    {
      "cell_type": "code",
      "metadata": {
        "id": "jhS77oUZeblS"
      },
      "source": [
        "#Ejercicio 2,8,6\n",
        "import numpy as np\n",
        "\n",
        "def f(xn):\n",
        "  return xn + np.exp(-xn)\n",
        "def euler(N, h, x0):\n",
        "  x=np.zeros(N)\n",
        "  x[0] =x0\n",
        "  for n in range (1, N):\n",
        "    x[n]=x[n-1]+f(x[n-1])*h\n",
        "    return x"
      ],
      "execution_count": null,
      "outputs": []
    },
    {
      "cell_type": "code",
      "metadata": {
        "id": "EU-PLmvm36oj"
      },
      "source": [
        "x = euler (10, 0.01, 0.1) "
      ],
      "execution_count": null,
      "outputs": []
    },
    {
      "cell_type": "code",
      "metadata": {
        "id": "YVOa8iDa5Q02"
      },
      "source": [
        "import matplotlib.pyplot as plt"
      ],
      "execution_count": null,
      "outputs": []
    },
    {
      "cell_type": "code",
      "metadata": {
        "id": "seR9y16E5Swn"
      },
      "source": [
        "plt.stem(np.arange(len(x)), x)"
      ],
      "execution_count": null,
      "outputs": []
    },
    {
      "cell_type": "code",
      "metadata": {
        "id": "gEyCumvVUr86"
      },
      "source": [
        "#Ejercicio 2,8,3 y 2,8,4 Euler\n",
        "import numpy as np\n",
        "\n",
        "def f(xn):\n",
        "  return -1*xn\n",
        "def euler(N, h, x0):\n",
        "  x=np.zeros(N)\n",
        "  x[0] =x0\n",
        "  for n in range (1, N-5):\n",
        "    x[n]=x[n-1]+f(x[n-1])*h\n",
        "    return x"
      ],
      "execution_count": null,
      "outputs": []
    },
    {
      "cell_type": "code",
      "metadata": {
        "id": "yyAsVohWU1fL"
      },
      "source": [
        "x = euler (10, 1, 4)"
      ],
      "execution_count": null,
      "outputs": []
    },
    {
      "cell_type": "code",
      "metadata": {
        "id": "_i-h-6vOWOOk"
      },
      "source": [
        "import matplotlib.pyplot as plt"
      ],
      "execution_count": null,
      "outputs": []
    },
    {
      "cell_type": "code",
      "metadata": {
        "id": "JnoJCfEvWWC-"
      },
      "source": [
        "plt.stem(np.arange(len(x)),x)"
      ],
      "execution_count": null,
      "outputs": []
    },
    {
      "cell_type": "code",
      "metadata": {
        "id": "C3hk8QyKXivV"
      },
      "source": [
        "t=np.arange(10)\n",
        "x_hat=np.exp(-t)"
      ],
      "execution_count": null,
      "outputs": []
    },
    {
      "cell_type": "code",
      "metadata": {
        "id": "aXxCjoM_Xr81"
      },
      "source": [
        "x - x_hat"
      ],
      "execution_count": null,
      "outputs": []
    },
    {
      "cell_type": "code",
      "metadata": {
        "id": "9IiaoOh4X7jF"
      },
      "source": [
        "#Ejercicio 2,8,5 runge-kutta\n",
        "import numpy as np\n",
        "\n",
        "def f(xn):\n",
        "  return -1*xn\n",
        "def RK2_step(N, h, x0):\n",
        "  x=np.zeros(N)\n",
        "  x[0] =x0\n",
        "  for n in range (1, N-5):\n",
        "    x[n]=x[n-1]+f(x[n-1])*h\n",
        "    return x"
      ],
      "execution_count": null,
      "outputs": []
    },
    {
      "cell_type": "code",
      "metadata": {
        "id": "SbPqSJrAZWIj"
      },
      "source": [
        "x = RK2_step(10, 1, 4)"
      ],
      "execution_count": null,
      "outputs": []
    },
    {
      "cell_type": "code",
      "metadata": {
        "id": "44meRwsdZyko"
      },
      "source": [
        "import matplotlib.pyplot as plt"
      ],
      "execution_count": null,
      "outputs": []
    },
    {
      "cell_type": "code",
      "metadata": {
        "id": "NL1Ii0xQZzMy"
      },
      "source": [
        "plt.stem(np.arange(len(x)),x)"
      ],
      "execution_count": null,
      "outputs": []
    },
    {
      "cell_type": "code",
      "metadata": {
        "id": "xN3ITBSeZ1Ep"
      },
      "source": [
        "t=np.arange(10)\n",
        "x_hat=np.exp(-t)"
      ],
      "execution_count": null,
      "outputs": []
    },
    {
      "cell_type": "code",
      "metadata": {
        "id": "K63y5ZCgZ5io"
      },
      "source": [
        "x - x_hat"
      ],
      "execution_count": null,
      "outputs": []
    },
    {
      "cell_type": "code",
      "metadata": {
        "id": "zP7hXEA-qhNQ"
      },
      "source": [
        "#Ejercicio 2,8,2 Euler\n",
        "import numpy as np\n",
        "\n",
        "def f(xn):\n",
        "  return xn\n",
        "def euler(N, h, x0):\n",
        "  x=np.zeros(N)\n",
        "  x[0] =x0\n",
        "  for n in range (1, N-1):\n",
        "    x[n]=x[n-1]+f(x[n-1])*h\n",
        "    return x"
      ],
      "execution_count": null,
      "outputs": []
    },
    {
      "cell_type": "code",
      "metadata": {
        "id": "cVJHgQsCqxLw"
      },
      "source": [
        "x = euler (10, 1, 0.1)"
      ],
      "execution_count": null,
      "outputs": []
    },
    {
      "cell_type": "code",
      "metadata": {
        "id": "jt_m0Gqrq3hh"
      },
      "source": [
        "import matplotlib.pyplot as plt"
      ],
      "execution_count": null,
      "outputs": []
    },
    {
      "cell_type": "code",
      "metadata": {
        "id": "ZuOu3E3dvpFF"
      },
      "source": [
        "plt.stem(np.arange(len(x)), x)"
      ],
      "execution_count": null,
      "outputs": []
    },
    {
      "cell_type": "code",
      "metadata": {
        "id": "pyPY_m9athG5"
      },
      "source": [
        "import numpy as np\n",
        "\n",
        "def f(xn):\n",
        "  return 1 - xn**2\n",
        "def euler(N, h, x0):\n",
        "  x=np.zeros(N)\n",
        "  x[0] =x0\n",
        "  for n in range (1, N-1):\n",
        "    x[n]=x[n-1]+f(x[n-1])*h\n",
        "    return x"
      ],
      "execution_count": null,
      "outputs": []
    },
    {
      "cell_type": "code",
      "metadata": {
        "id": "zHKMgd3XttTu"
      },
      "source": [
        "x = euler (10, 1, 0.1)"
      ],
      "execution_count": null,
      "outputs": []
    },
    {
      "cell_type": "code",
      "metadata": {
        "id": "O5AZO5HhtuQA"
      },
      "source": [
        "import matplotlib.pyplot as plt"
      ],
      "execution_count": null,
      "outputs": []
    },
    {
      "cell_type": "code",
      "metadata": {
        "id": "mCx2pylpuBLG"
      },
      "source": [
        "plt.stem(np.arange(len(x)), x)"
      ],
      "execution_count": null,
      "outputs": []
    },
    {
      "cell_type": "code",
      "metadata": {
        "id": "N4TagyzQv3Xb"
      },
      "source": [
        "import numpy as np\n",
        "import math\n",
        "def f(xn):\n",
        "  return (math.sin*(xn))\n",
        "def euler(N, h, x0):\n",
        "  x=np.zeros(N)\n",
        "  x[0] =x0\n",
        "  for n in range (1, N-1):\n",
        "    x[n]=x[n-1]+f(x[n-1])*h\n",
        "    return x"
      ],
      "execution_count": null,
      "outputs": []
    },
    {
      "cell_type": "code",
      "metadata": {
        "id": "qksxA5newBoz"
      },
      "source": [
        "x = euler (10, 1, 0.1)"
      ],
      "execution_count": null,
      "outputs": []
    },
    {
      "cell_type": "code",
      "metadata": {
        "id": "7l0F6MXiwDaE"
      },
      "source": [
        "import matplotlib.pyplot as plt"
      ],
      "execution_count": null,
      "outputs": []
    },
    {
      "cell_type": "code",
      "metadata": {
        "id": "jq0G53t5wFYV"
      },
      "source": [
        "plt.stem(np.arange(len(x)), x)"
      ],
      "execution_count": null,
      "outputs": []
    },
    {
      "cell_type": "code",
      "metadata": {
        "id": "rK1B46cmyAIE"
      },
      "source": [
        ""
      ],
      "execution_count": null,
      "outputs": []
    }
  ]
}